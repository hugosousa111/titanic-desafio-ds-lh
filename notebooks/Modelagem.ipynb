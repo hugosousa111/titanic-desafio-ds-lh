{
 "cells": [
  {
   "cell_type": "markdown",
   "id": "a47e4a1d-e264-435b-8600-f97259882f01",
   "metadata": {
    "tags": []
   },
   "source": [
    "## packages and dataset load"
   ]
  },
  {
   "cell_type": "code",
   "execution_count": 2,
   "id": "bdcd9bc4-03ed-4191-913f-806305407087",
   "metadata": {},
   "outputs": [],
   "source": [
    "import warnings\n",
    "warnings.filterwarnings('ignore')\n",
    "import seaborn as sns\n",
    "import matplotlib.pyplot as plt\n",
    "from sklearn.linear_model import LogisticRegression \n",
    "from sklearn.ensemble import RandomForestClassifier \n",
    "from sklearn import svm \n",
    "from sklearn.naive_bayes import GaussianNB \n",
    "from sklearn.neighbors import KNeighborsClassifier \n",
    "from sklearn.tree import DecisionTreeClassifier \n",
    "from sklearn.model_selection import train_test_split \n",
    "from sklearn.metrics import classification_report\n",
    "from sklearn.metrics import confusion_matrix, ConfusionMatrixDisplay"
   ]
  },
  {
   "cell_type": "code",
   "execution_count": 3,
   "id": "3babcd01-f84b-484f-b0bf-aa2441ceff34",
   "metadata": {
    "tags": []
   },
   "outputs": [
    {
     "data": {
      "text/html": [
       "<pre style=\"white-space:pre;overflow-x:auto;line-height:normal;font-family:Menlo,'DejaVu Sans Mono',consolas,'Courier New',monospace\"><span style=\"color: #7fbfbf; text-decoration-color: #7fbfbf\">[02/24/23 23:06:04] </span><span style=\"color: #000080; text-decoration-color: #000080\">INFO    </span> Loading data from <span style=\"color: #008000; text-decoration-color: #008000\">'titanic_train_dataset'</span> <span style=\"font-weight: bold\">(</span>CSVDataSet<span style=\"font-weight: bold\">)</span><span style=\"color: #808000; text-decoration-color: #808000\">...</span>          <span style=\"color: #7f7f7f; text-decoration-color: #7f7f7f\">data_catalog.py:343</span>\n",
       "</pre>\n"
      ],
      "text/plain": [
       "\u001b[2;36m[02/24/23 23:06:04]\u001b[0m\u001b[2;36m \u001b[0m\u001b[34mINFO    \u001b[0m Loading data from \u001b[32m'titanic_train_dataset'\u001b[0m \u001b[1m(\u001b[0mCSVDataSet\u001b[1m)\u001b[0m\u001b[33m...\u001b[0m          \u001b[2mdata_catalog.py\u001b[0m\u001b[2m:\u001b[0m\u001b[2m343\u001b[0m\n"
      ]
     },
     "metadata": {},
     "output_type": "display_data"
    }
   ],
   "source": [
    "df = catalog.load('titanic_train_dataset')"
   ]
  },
  {
   "cell_type": "code",
   "execution_count": 4,
   "id": "9b22d2c0-b42f-4489-8f07-ec88098fa96d",
   "metadata": {},
   "outputs": [
    {
     "data": {
      "text/html": [
       "<div>\n",
       "<style scoped>\n",
       "    .dataframe tbody tr th:only-of-type {\n",
       "        vertical-align: middle;\n",
       "    }\n",
       "\n",
       "    .dataframe tbody tr th {\n",
       "        vertical-align: top;\n",
       "    }\n",
       "\n",
       "    .dataframe thead th {\n",
       "        text-align: right;\n",
       "    }\n",
       "</style>\n",
       "<table border=\"1\" class=\"dataframe\">\n",
       "  <thead>\n",
       "    <tr style=\"text-align: right;\">\n",
       "      <th></th>\n",
       "      <th>PassengerId</th>\n",
       "      <th>Survived</th>\n",
       "      <th>Pclass</th>\n",
       "      <th>Name</th>\n",
       "      <th>Sex</th>\n",
       "      <th>Age</th>\n",
       "      <th>SibSp</th>\n",
       "      <th>Parch</th>\n",
       "      <th>Ticket</th>\n",
       "      <th>Fare</th>\n",
       "      <th>Cabin</th>\n",
       "      <th>Embarked</th>\n",
       "    </tr>\n",
       "  </thead>\n",
       "  <tbody>\n",
       "    <tr>\n",
       "      <th>0</th>\n",
       "      <td>1</td>\n",
       "      <td>0</td>\n",
       "      <td>3</td>\n",
       "      <td>Braund, Mr. Owen Harris</td>\n",
       "      <td>male</td>\n",
       "      <td>22.0</td>\n",
       "      <td>1</td>\n",
       "      <td>0</td>\n",
       "      <td>A/5 21171</td>\n",
       "      <td>7.2500</td>\n",
       "      <td>NaN</td>\n",
       "      <td>S</td>\n",
       "    </tr>\n",
       "    <tr>\n",
       "      <th>1</th>\n",
       "      <td>2</td>\n",
       "      <td>1</td>\n",
       "      <td>1</td>\n",
       "      <td>Cumings, Mrs. John Bradley (Florence Briggs Th...</td>\n",
       "      <td>female</td>\n",
       "      <td>38.0</td>\n",
       "      <td>1</td>\n",
       "      <td>0</td>\n",
       "      <td>PC 17599</td>\n",
       "      <td>71.2833</td>\n",
       "      <td>C85</td>\n",
       "      <td>C</td>\n",
       "    </tr>\n",
       "    <tr>\n",
       "      <th>2</th>\n",
       "      <td>3</td>\n",
       "      <td>1</td>\n",
       "      <td>3</td>\n",
       "      <td>Heikkinen, Miss. Laina</td>\n",
       "      <td>female</td>\n",
       "      <td>26.0</td>\n",
       "      <td>0</td>\n",
       "      <td>0</td>\n",
       "      <td>STON/O2. 3101282</td>\n",
       "      <td>7.9250</td>\n",
       "      <td>NaN</td>\n",
       "      <td>S</td>\n",
       "    </tr>\n",
       "    <tr>\n",
       "      <th>3</th>\n",
       "      <td>4</td>\n",
       "      <td>1</td>\n",
       "      <td>1</td>\n",
       "      <td>Futrelle, Mrs. Jacques Heath (Lily May Peel)</td>\n",
       "      <td>female</td>\n",
       "      <td>35.0</td>\n",
       "      <td>1</td>\n",
       "      <td>0</td>\n",
       "      <td>113803</td>\n",
       "      <td>53.1000</td>\n",
       "      <td>C123</td>\n",
       "      <td>S</td>\n",
       "    </tr>\n",
       "    <tr>\n",
       "      <th>4</th>\n",
       "      <td>5</td>\n",
       "      <td>0</td>\n",
       "      <td>3</td>\n",
       "      <td>Allen, Mr. William Henry</td>\n",
       "      <td>male</td>\n",
       "      <td>35.0</td>\n",
       "      <td>0</td>\n",
       "      <td>0</td>\n",
       "      <td>373450</td>\n",
       "      <td>8.0500</td>\n",
       "      <td>NaN</td>\n",
       "      <td>S</td>\n",
       "    </tr>\n",
       "  </tbody>\n",
       "</table>\n",
       "</div>"
      ]
     },
     "execution_count": 4,
     "metadata": {},
     "output_type": "execute_result"
    }
   ],
   "source": [
    "df.head()"
   ]
  },
  {
   "cell_type": "code",
   "execution_count": 5,
   "id": "d0f14edd-81fe-4148-8a56-f2a2695a5767",
   "metadata": {},
   "outputs": [
    {
     "data": {
      "text/html": [
       "<pre style=\"white-space:pre;overflow-x:auto;line-height:normal;font-family:Menlo,'DejaVu Sans Mono',consolas,'Courier New',monospace\">\n",
       "PassengerId      int64\n",
       "Survived         int64\n",
       "Pclass           int64\n",
       "Name            object\n",
       "Sex             object\n",
       "Age            float64\n",
       "SibSp            int64\n",
       "Parch            int64\n",
       "Ticket          object\n",
       "Fare           float64\n",
       "Cabin           object\n",
       "Embarked        object\n",
       "dtype: object\n",
       "</pre>\n"
      ],
      "text/plain": [
       "\n",
       "PassengerId      int64\n",
       "Survived         int64\n",
       "Pclass           int64\n",
       "Name            object\n",
       "Sex             object\n",
       "Age            float64\n",
       "SibSp            int64\n",
       "Parch            int64\n",
       "Ticket          object\n",
       "Fare           float64\n",
       "Cabin           object\n",
       "Embarked        object\n",
       "dtype: object\n"
      ]
     },
     "metadata": {},
     "output_type": "display_data"
    }
   ],
   "source": [
    "df.dtypes"
   ]
  },
  {
   "cell_type": "code",
   "execution_count": 6,
   "id": "59a8d8f0-a81e-4c4a-b490-37fe4e64a4de",
   "metadata": {},
   "outputs": [
    {
     "data": {
      "text/html": [
       "<pre style=\"white-space:pre;overflow-x:auto;line-height:normal;font-family:Menlo,'DejaVu Sans Mono',consolas,'Courier New',monospace\">\n",
       "PassengerId      <span style=\"color: #008080; text-decoration-color: #008080; font-weight: bold\">0</span>\n",
       "Survived         <span style=\"color: #008080; text-decoration-color: #008080; font-weight: bold\">0</span>\n",
       "Pclass           <span style=\"color: #008080; text-decoration-color: #008080; font-weight: bold\">0</span>\n",
       "Name             <span style=\"color: #008080; text-decoration-color: #008080; font-weight: bold\">0</span>\n",
       "Sex              <span style=\"color: #008080; text-decoration-color: #008080; font-weight: bold\">0</span>\n",
       "Age            <span style=\"color: #008080; text-decoration-color: #008080; font-weight: bold\">177</span>\n",
       "SibSp            <span style=\"color: #008080; text-decoration-color: #008080; font-weight: bold\">0</span>\n",
       "Parch            <span style=\"color: #008080; text-decoration-color: #008080; font-weight: bold\">0</span>\n",
       "Ticket           <span style=\"color: #008080; text-decoration-color: #008080; font-weight: bold\">0</span>\n",
       "Fare             <span style=\"color: #008080; text-decoration-color: #008080; font-weight: bold\">0</span>\n",
       "Cabin          <span style=\"color: #008080; text-decoration-color: #008080; font-weight: bold\">687</span>\n",
       "Embarked         <span style=\"color: #008080; text-decoration-color: #008080; font-weight: bold\">2</span>\n",
       "dtype: int64\n",
       "</pre>\n"
      ],
      "text/plain": [
       "\n",
       "PassengerId      \u001b[1;36m0\u001b[0m\n",
       "Survived         \u001b[1;36m0\u001b[0m\n",
       "Pclass           \u001b[1;36m0\u001b[0m\n",
       "Name             \u001b[1;36m0\u001b[0m\n",
       "Sex              \u001b[1;36m0\u001b[0m\n",
       "Age            \u001b[1;36m177\u001b[0m\n",
       "SibSp            \u001b[1;36m0\u001b[0m\n",
       "Parch            \u001b[1;36m0\u001b[0m\n",
       "Ticket           \u001b[1;36m0\u001b[0m\n",
       "Fare             \u001b[1;36m0\u001b[0m\n",
       "Cabin          \u001b[1;36m687\u001b[0m\n",
       "Embarked         \u001b[1;36m2\u001b[0m\n",
       "dtype: int64\n"
      ]
     },
     "metadata": {},
     "output_type": "display_data"
    }
   ],
   "source": [
    "df.isnull().sum()"
   ]
  },
  {
   "cell_type": "markdown",
   "id": "7980cea1-7b00-47ca-92e3-914642b74e7d",
   "metadata": {
    "tags": []
   },
   "source": [
    "## Drop atributes"
   ]
  },
  {
   "cell_type": "code",
   "execution_count": 7,
   "id": "38e0bad8-15eb-4410-b11c-5ce8f7327f26",
   "metadata": {},
   "outputs": [],
   "source": [
    "# PassengerId: Id from each passenger\n",
    "# Name: Name from each passenger\n",
    "# Ticket: Pass id\n",
    "# Cabin: Cabine passager"
   ]
  },
  {
   "cell_type": "code",
   "execution_count": 8,
   "id": "138f88d8-9565-4ba7-949c-687f12bbda5b",
   "metadata": {},
   "outputs": [],
   "source": [
    "df.drop(['PassengerId', 'Name', 'Ticket', 'Cabin'],axis=1,inplace=True)"
   ]
  },
  {
   "cell_type": "markdown",
   "id": "f784e0c4-0c46-42bd-a4de-8228d865556c",
   "metadata": {
    "tags": []
   },
   "source": [
    "## Age"
   ]
  },
  {
   "cell_type": "code",
   "execution_count": 9,
   "id": "940ffbbb-4233-4eac-8366-79021f697930",
   "metadata": {
    "tags": []
   },
   "outputs": [
    {
     "data": {
      "text/html": [
       "<pre style=\"white-space:pre;overflow-x:auto;line-height:normal;font-family:Menlo,'DejaVu Sans Mono',consolas,'Courier New',monospace\"><span style=\"color: #008080; text-decoration-color: #008080; font-weight: bold\">30</span>\n",
       "</pre>\n"
      ],
      "text/plain": [
       "\u001b[1;36m30\u001b[0m\n"
      ]
     },
     "metadata": {},
     "output_type": "display_data"
    }
   ],
   "source": [
    "mean_age = round(df['Age'].mean())\n",
    "mean_age"
   ]
  },
  {
   "cell_type": "code",
   "execution_count": 10,
   "id": "1532b067-3aa5-4e20-86de-310526a2f530",
   "metadata": {
    "tags": []
   },
   "outputs": [],
   "source": [
    "df.loc[(df.Age.isnull()),'Age'] = mean_age"
   ]
  },
  {
   "cell_type": "code",
   "execution_count": 11,
   "id": "a0938f0a-aa6d-4dbc-9ce5-68189997019d",
   "metadata": {},
   "outputs": [],
   "source": [
    "# The following are the American Medical Associations’ age designations:\n",
    "# Neonates or newborns (birth to 1 month)\n",
    "# Infants (1 month to 1 year)\n",
    "# Children (1 year through 12 years)\n",
    "# Adolescents (13 years through 17 years. They may also be referred to as teenagers depending on the context.)\n",
    "# Adults (18 years or older)\n",
    "# Older adults (65 and older)*\n",
    "\n",
    "# My definition:\n",
    "#0 (Children) Age < 12\n",
    "#1 (Adolescents) 12 <= Age < 18\n",
    "#2 (Adults 1) 18 <= Age < 34\n",
    "#3 (Adults 2) 34 <= Age < 50\n",
    "#4 (Adults 3) 50 <= Age < 65\n",
    "#5 (Seniors) 65 <= Age"
   ]
  },
  {
   "cell_type": "code",
   "execution_count": 12,
   "id": "0c0300b9-9e9b-4f8d-a475-0a348d85bc1e",
   "metadata": {},
   "outputs": [],
   "source": [
    "df['age_category'] = 0\n",
    "df.loc[(df['Age'] < 12),'age_category'] = 0\n",
    "df.loc[(df['Age'] >= 12)&(df['Age'] < 18),'age_category'] = 1\n",
    "df.loc[(df['Age'] >= 18)&(df['Age'] < 34),'age_category'] = 2\n",
    "df.loc[(df['Age'] >= 34)&(df['Age'] < 50),'age_category'] = 3\n",
    "df.loc[(df['Age'] >= 50)&(df['Age'] < 65),'age_category'] = 4\n",
    "df.loc[(df['Age'] >= 65),'age_category'] = 5"
   ]
  },
  {
   "cell_type": "markdown",
   "id": "7aa2b254-85fc-450c-926e-6305388bbeee",
   "metadata": {
    "tags": []
   },
   "source": [
    "## Fare"
   ]
  },
  {
   "cell_type": "code",
   "execution_count": 13,
   "id": "792f7c0d-fa24-44df-8282-37899fc8e29c",
   "metadata": {},
   "outputs": [],
   "source": [
    "#0 Fare < 8\n",
    "#1 8 <= Fare < 13\n",
    "#2 13 <= Fare < 21\n",
    "#3 21 <= Fare < 27\n",
    "#4 27 <= Fare < 32\n",
    "#5 32 <= Fare < 84\n",
    "#6 84 <= Fare"
   ]
  },
  {
   "cell_type": "code",
   "execution_count": 14,
   "id": "869d044e-a33e-4d4a-b7fb-344a0e1eee37",
   "metadata": {},
   "outputs": [],
   "source": [
    "df['fare_category'] = 0\n",
    "df.loc[(df['Fare'] < 8),'fare_category'] = 0\n",
    "df.loc[(df['Fare'] >= 8)&(df['Fare'] < 13),'fare_category'] = 1\n",
    "df.loc[(df['Fare'] >= 13)&(df['Fare'] < 21),'fare_category'] = 2\n",
    "df.loc[(df['Fare'] >= 21)&(df['Fare'] < 27),'fare_category'] = 3\n",
    "df.loc[(df['Fare'] >= 27)&(df['Fare'] < 32),'fare_category'] = 4\n",
    "df.loc[(df['Fare'] >= 32)&(df['Fare'] < 84),'fare_category'] = 5\n",
    "df.loc[(df['Fare'] >= 84),'fare_category'] = 6"
   ]
  },
  {
   "cell_type": "markdown",
   "id": "bae7beaf-2dbc-4665-aeba-0cf3e165979b",
   "metadata": {
    "tags": []
   },
   "source": [
    "## Embarked"
   ]
  },
  {
   "cell_type": "code",
   "execution_count": 15,
   "id": "d282bdc2-dc5c-4031-854f-cac788a877f6",
   "metadata": {
    "tags": []
   },
   "outputs": [
    {
     "data": {
      "text/html": [
       "<pre style=\"white-space:pre;overflow-x:auto;line-height:normal;font-family:Menlo,'DejaVu Sans Mono',consolas,'Courier New',monospace\"><span style=\"color: #008000; text-decoration-color: #008000\">'S'</span>\n",
       "</pre>\n"
      ],
      "text/plain": [
       "\u001b[32m'S'\u001b[0m\n"
      ]
     },
     "metadata": {},
     "output_type": "display_data"
    }
   ],
   "source": [
    "df['Embarked'].mode()[0]"
   ]
  },
  {
   "cell_type": "code",
   "execution_count": 16,
   "id": "6c33b4fd-c7c2-436b-a7de-87361576fa82",
   "metadata": {},
   "outputs": [],
   "source": [
    "df['Embarked'].fillna('S',inplace=True)"
   ]
  },
  {
   "cell_type": "markdown",
   "id": "63374a03-0f8b-4059-9f33-1052c1fb4520",
   "metadata": {
    "tags": []
   },
   "source": [
    "## Encoder"
   ]
  },
  {
   "cell_type": "code",
   "execution_count": 17,
   "id": "eb2d00b0-7a0a-422c-9093-40e11fe3d0aa",
   "metadata": {},
   "outputs": [],
   "source": [
    "df.drop(['Age', 'Fare'],axis=1,inplace=True)"
   ]
  },
  {
   "cell_type": "code",
   "execution_count": 18,
   "id": "9d656824-5b9d-4545-9db1-053e20caf209",
   "metadata": {},
   "outputs": [
    {
     "data": {
      "text/html": [
       "<pre style=\"white-space:pre;overflow-x:auto;line-height:normal;font-family:Menlo,'DejaVu Sans Mono',consolas,'Courier New',monospace\">\n",
       "Survived         <span style=\"color: #008080; text-decoration-color: #008080; font-weight: bold\">0</span>\n",
       "Pclass           <span style=\"color: #008080; text-decoration-color: #008080; font-weight: bold\">0</span>\n",
       "Sex              <span style=\"color: #008080; text-decoration-color: #008080; font-weight: bold\">0</span>\n",
       "SibSp            <span style=\"color: #008080; text-decoration-color: #008080; font-weight: bold\">0</span>\n",
       "Parch            <span style=\"color: #008080; text-decoration-color: #008080; font-weight: bold\">0</span>\n",
       "Embarked         <span style=\"color: #008080; text-decoration-color: #008080; font-weight: bold\">0</span>\n",
       "age_category     <span style=\"color: #008080; text-decoration-color: #008080; font-weight: bold\">0</span>\n",
       "fare_category    <span style=\"color: #008080; text-decoration-color: #008080; font-weight: bold\">0</span>\n",
       "dtype: int64\n",
       "</pre>\n"
      ],
      "text/plain": [
       "\n",
       "Survived         \u001b[1;36m0\u001b[0m\n",
       "Pclass           \u001b[1;36m0\u001b[0m\n",
       "Sex              \u001b[1;36m0\u001b[0m\n",
       "SibSp            \u001b[1;36m0\u001b[0m\n",
       "Parch            \u001b[1;36m0\u001b[0m\n",
       "Embarked         \u001b[1;36m0\u001b[0m\n",
       "age_category     \u001b[1;36m0\u001b[0m\n",
       "fare_category    \u001b[1;36m0\u001b[0m\n",
       "dtype: int64\n"
      ]
     },
     "metadata": {},
     "output_type": "display_data"
    }
   ],
   "source": [
    "df.isnull().sum()"
   ]
  },
  {
   "cell_type": "code",
   "execution_count": 19,
   "id": "114aae18-1eae-4009-bf02-f974019316d7",
   "metadata": {},
   "outputs": [
    {
     "data": {
      "text/html": [
       "<pre style=\"white-space:pre;overflow-x:auto;line-height:normal;font-family:Menlo,'DejaVu Sans Mono',consolas,'Courier New',monospace\">\n",
       "Survived          int64\n",
       "Pclass            int64\n",
       "Sex              object\n",
       "SibSp             int64\n",
       "Parch             int64\n",
       "Embarked         object\n",
       "age_category      int64\n",
       "fare_category     int64\n",
       "dtype: object\n",
       "</pre>\n"
      ],
      "text/plain": [
       "\n",
       "Survived          int64\n",
       "Pclass            int64\n",
       "Sex              object\n",
       "SibSp             int64\n",
       "Parch             int64\n",
       "Embarked         object\n",
       "age_category      int64\n",
       "fare_category     int64\n",
       "dtype: object\n"
      ]
     },
     "metadata": {},
     "output_type": "display_data"
    }
   ],
   "source": [
    "df.dtypes"
   ]
  },
  {
   "cell_type": "code",
   "execution_count": 20,
   "id": "a6b9bbb9-36c9-4d90-8333-3fb321edf1ce",
   "metadata": {},
   "outputs": [
    {
     "name": "stdout",
     "output_type": "stream",
     "text": [
      "['male' 'female']\n",
      "[0 1]\n"
     ]
    }
   ],
   "source": [
    "# male: 0\n",
    "# female: 1\n",
    "print(df['Sex'].unique())\n",
    "df['Sex'].replace(['male','female'],[0,1],inplace=True)\n",
    "print(df['Sex'].unique())"
   ]
  },
  {
   "cell_type": "code",
   "execution_count": 21,
   "id": "9e46a579-f803-4d5b-8bda-35e6fd5076ff",
   "metadata": {},
   "outputs": [
    {
     "name": "stdout",
     "output_type": "stream",
     "text": [
      "['S' 'C' 'Q']\n",
      "[0 1 2]\n"
     ]
    }
   ],
   "source": [
    "# S: 0\n",
    "# C: 1\n",
    "# Q: 2\n",
    "print(df['Embarked'].unique())\n",
    "df['Embarked'].replace(['S', 'C', 'Q'],[0, 1, 2],inplace=True)\n",
    "print(df['Embarked'].unique())"
   ]
  },
  {
   "cell_type": "code",
   "execution_count": 22,
   "id": "0c63c7e4-0535-442f-98e7-32302cef20eb",
   "metadata": {},
   "outputs": [
    {
     "data": {
      "text/html": [
       "<pre style=\"white-space:pre;overflow-x:auto;line-height:normal;font-family:Menlo,'DejaVu Sans Mono',consolas,'Courier New',monospace\">\n",
       "Survived         int64\n",
       "Pclass           int64\n",
       "Sex              int64\n",
       "SibSp            int64\n",
       "Parch            int64\n",
       "Embarked         int64\n",
       "age_category     int64\n",
       "fare_category    int64\n",
       "dtype: object\n",
       "</pre>\n"
      ],
      "text/plain": [
       "\n",
       "Survived         int64\n",
       "Pclass           int64\n",
       "Sex              int64\n",
       "SibSp            int64\n",
       "Parch            int64\n",
       "Embarked         int64\n",
       "age_category     int64\n",
       "fare_category    int64\n",
       "dtype: object\n"
      ]
     },
     "metadata": {},
     "output_type": "display_data"
    }
   ],
   "source": [
    "df.dtypes"
   ]
  },
  {
   "cell_type": "markdown",
   "id": "3b7d810d-2925-4671-8b44-53a0d6a6dc27",
   "metadata": {
    "tags": []
   },
   "source": [
    "# Modeling"
   ]
  },
  {
   "cell_type": "code",
   "execution_count": 23,
   "id": "5787604b-3310-441d-b677-f598b6afaae9",
   "metadata": {},
   "outputs": [],
   "source": [
    "X = df.drop(['Survived'],axis=1)\n",
    "y = df['Survived']"
   ]
  },
  {
   "cell_type": "code",
   "execution_count": 24,
   "id": "2faeb9dd-45da-49aa-ad2a-308039f8adb1",
   "metadata": {},
   "outputs": [],
   "source": [
    "X_train, X_test, y_train, y_test = train_test_split(X, y, test_size=0.25, random_state=42, stratify=y)"
   ]
  },
  {
   "cell_type": "markdown",
   "id": "854fa15f-3702-47c7-a02a-78669e9aa224",
   "metadata": {
    "tags": []
   },
   "source": [
    "## LogisticRegression"
   ]
  },
  {
   "cell_type": "code",
   "execution_count": 25,
   "id": "e4c7ef8d-8d64-48f6-abd6-171571693286",
   "metadata": {},
   "outputs": [
    {
     "name": "stdout",
     "output_type": "stream",
     "text": [
      "              precision    recall  f1-score   support\n",
      "\n",
      "           0       0.83      0.82      0.83       137\n",
      "           1       0.72      0.73      0.73        86\n",
      "\n",
      "    accuracy                           0.79       223\n",
      "   macro avg       0.78      0.78      0.78       223\n",
      "weighted avg       0.79      0.79      0.79       223\n",
      "\n"
     ]
    }
   ],
   "source": [
    "model_lr = LogisticRegression(random_state=42)\n",
    "model_lr.fit(X_train, y_train)\n",
    "y_pred_lr = model_lr.predict(X_test)\n",
    "report_lr = classification_report(y_test, y_pred_lr, output_dict=True)\n",
    "print(classification_report(y_test, y_pred_lr, output_dict=False))"
   ]
  },
  {
   "cell_type": "code",
   "execution_count": 26,
   "id": "10a7743e-e6df-4a35-996d-b186d8303ee4",
   "metadata": {},
   "outputs": [
    {
     "data": {
      "image/png": "[encoded data removed]"
     },
     "metadata": {},
     "output_type": "display_data"
    }
   ],
   "source": [
    "sns.set_theme(style=\"white\", palette=None)\n",
    "disp = ConfusionMatrixDisplay.from_predictions(y_test, y_pred_lr, labels=model_lr.classes_, cmap='Greens')\n",
    "plt.show()"
   ]
  },
  {
   "cell_type": "markdown",
   "id": "ac477d62-41dd-43c4-a8e2-e5b6b1e73ed7",
   "metadata": {
    "tags": []
   },
   "source": [
    "## RandomForestClassifier"
   ]
  },
  {
   "cell_type": "code",
   "execution_count": 27,
   "id": "4affa380-e305-4c2b-8ffb-1b897983ed21",
   "metadata": {},
   "outputs": [
    {
     "name": "stdout",
     "output_type": "stream",
     "text": [
      "              precision    recall  f1-score   support\n",
      "\n",
      "           0       0.78      0.92      0.84       137\n",
      "           1       0.82      0.58      0.68        86\n",
      "\n",
      "    accuracy                           0.79       223\n",
      "   macro avg       0.80      0.75      0.76       223\n",
      "weighted avg       0.79      0.79      0.78       223\n",
      "\n"
     ]
    }
   ],
   "source": [
    "model_rf = RandomForestClassifier(max_depth=2, random_state=42)\n",
    "model_rf.fit(X_train, y_train)\n",
    "y_pred_rf = model_rf.predict(X_test)\n",
    "report_rf = classification_report(y_test, y_pred_rf, output_dict=True)\n",
    "print(classification_report(y_test, y_pred_rf, output_dict=False))"
   ]
  },
  {
   "cell_type": "code",
   "execution_count": 28,
   "id": "e343e6ec-4608-4319-976f-6ac54b04e65a",
   "metadata": {},
   "outputs": [
    {
     "data": {
      "image/png": "[encoded data removed]"
     },
     "metadata": {},
     "output_type": "display_data"
    }
   ],
   "source": [
    "disp = ConfusionMatrixDisplay.from_predictions(y_test, y_pred_rf, labels=model_rf.classes_, cmap='Greens')\n",
    "plt.show()"
   ]
  },
  {
   "cell_type": "markdown",
   "id": "c4187cc0-bc50-46e3-a1b0-58b5b45ea745",
   "metadata": {
    "tags": []
   },
   "source": [
    "## svm"
   ]
  },
  {
   "cell_type": "code",
   "execution_count": 29,
   "id": "7349475d-2ce8-4677-81c4-804715cb81ee",
   "metadata": {},
   "outputs": [
    {
     "name": "stdout",
     "output_type": "stream",
     "text": [
      "              precision    recall  f1-score   support\n",
      "\n",
      "           0       0.83      0.88      0.86       137\n",
      "           1       0.79      0.72      0.76        86\n",
      "\n",
      "    accuracy                           0.82       223\n",
      "   macro avg       0.81      0.80      0.81       223\n",
      "weighted avg       0.82      0.82      0.82       223\n",
      "\n"
     ]
    }
   ],
   "source": [
    "model_svm = svm.SVC(random_state=42)\n",
    "model_svm.fit(X_train, y_train)\n",
    "y_pred_svm = model_svm.predict(X_test)\n",
    "report_svm = classification_report(y_test, y_pred_svm, output_dict=True)\n",
    "print(classification_report(y_test, y_pred_svm, output_dict=False))"
   ]
  },
  {
   "cell_type": "code",
   "execution_count": 30,
   "id": "2d67d5e3-c27a-4064-be5c-16cb82598f5a",
   "metadata": {},
   "outputs": [
    {
     "data": {
      "image/png": "[encoded data removed]"
     },
     "metadata": {},
     "output_type": "display_data"
    }
   ],
   "source": [
    "disp = ConfusionMatrixDisplay.from_predictions(y_test, y_pred_svm, labels=model_svm.classes_, cmap='Greens')\n",
    "plt.show()"
   ]
  },
  {
   "cell_type": "markdown",
   "id": "7a7996df-01fc-4b30-ac64-b87497e1b554",
   "metadata": {
    "tags": []
   },
   "source": [
    "## GaussianNB"
   ]
  },
  {
   "cell_type": "code",
   "execution_count": 31,
   "id": "1190950a-4f9f-4637-ba41-615104248225",
   "metadata": {},
   "outputs": [
    {
     "name": "stdout",
     "output_type": "stream",
     "text": [
      "              precision    recall  f1-score   support\n",
      "\n",
      "           0       0.84      0.73      0.78       137\n",
      "           1       0.64      0.78      0.71        86\n",
      "\n",
      "    accuracy                           0.75       223\n",
      "   macro avg       0.74      0.75      0.74       223\n",
      "weighted avg       0.76      0.75      0.75       223\n",
      "\n"
     ]
    }
   ],
   "source": [
    "model_nb = GaussianNB()\n",
    "model_nb.fit(X_train, y_train)\n",
    "y_pred_nb = model_nb.predict(X_test)\n",
    "report_nb = classification_report(y_test, y_pred_nb, output_dict=True)\n",
    "print(classification_report(y_test, y_pred_nb, output_dict=False))"
   ]
  },
  {
   "cell_type": "code",
   "execution_count": 32,
   "id": "b8bae321-e48b-42e1-9fbc-b1a53f0abf77",
   "metadata": {},
   "outputs": [
    {
     "data": {
      "image/png": "[encoded data removed]"
     },
     "metadata": {},
     "output_type": "display_data"
    }
   ],
   "source": [
    "disp = ConfusionMatrixDisplay.from_predictions(y_test, y_pred_nb, labels=model_nb.classes_, cmap='Greens')\n",
    "plt.show()"
   ]
  },
  {
   "cell_type": "markdown",
   "id": "62202cec-2827-41d7-94de-b66f8757c731",
   "metadata": {
    "tags": []
   },
   "source": [
    "## KNeighborsClassifier"
   ]
  },
  {
   "cell_type": "code",
   "execution_count": 33,
   "id": "04102142-7585-4fb5-aa4e-fc388dcbffe6",
   "metadata": {},
   "outputs": [
    {
     "name": "stdout",
     "output_type": "stream",
     "text": [
      "              precision    recall  f1-score   support\n",
      "\n",
      "           0       0.77      0.84      0.80       137\n",
      "           1       0.70      0.59      0.64        86\n",
      "\n",
      "    accuracy                           0.74       223\n",
      "   macro avg       0.73      0.72      0.72       223\n",
      "weighted avg       0.74      0.74      0.74       223\n",
      "\n"
     ]
    }
   ],
   "source": [
    "model_knn = KNeighborsClassifier()\n",
    "model_knn.fit(X_train, y_train)\n",
    "y_pred_knn = model_knn.predict(X_test)\n",
    "report_knn = classification_report(y_test, y_pred_knn, output_dict=True)\n",
    "print(classification_report(y_test, y_pred_knn, output_dict=False))"
   ]
  },
  {
   "cell_type": "code",
   "execution_count": 34,
   "id": "4188a13a-8438-4da7-9a2f-f125c52fd587",
   "metadata": {},
   "outputs": [
    {
     "data": {
      "image/png": "[encoded data removed]"
     },
     "metadata": {},
     "output_type": "display_data"
    }
   ],
   "source": [
    "disp = ConfusionMatrixDisplay.from_predictions(y_test, y_pred_knn, labels=model_knn.classes_, cmap='Greens')\n",
    "plt.show()"
   ]
  },
  {
   "cell_type": "markdown",
   "id": "fc583f5c-f995-4daf-9faa-06984c525f7e",
   "metadata": {
    "tags": []
   },
   "source": [
    "## DecisionTreeClassifier"
   ]
  },
  {
   "cell_type": "code",
   "execution_count": 35,
   "id": "70e595d3-1c69-4869-8c73-9b726f994bb9",
   "metadata": {},
   "outputs": [
    {
     "name": "stdout",
     "output_type": "stream",
     "text": [
      "              precision    recall  f1-score   support\n",
      "\n",
      "           0       0.77      0.85      0.81       137\n",
      "           1       0.71      0.60      0.65        86\n",
      "\n",
      "    accuracy                           0.75       223\n",
      "   macro avg       0.74      0.73      0.73       223\n",
      "weighted avg       0.75      0.75      0.75       223\n",
      "\n"
     ]
    }
   ],
   "source": [
    "model_dt = DecisionTreeClassifier(random_state=42)\n",
    "model_dt.fit(X_train, y_train)\n",
    "y_pred_dt = model_dt.predict(X_test)\n",
    "report_dt = classification_report(y_test, y_pred_dt, output_dict=True)\n",
    "print(classification_report(y_test, y_pred_dt, output_dict=False))"
   ]
  },
  {
   "cell_type": "code",
   "execution_count": 36,
   "id": "8c8b72b5-10a8-425d-99b2-a959a7c1886f",
   "metadata": {},
   "outputs": [
    {
     "data": {
      "image/png": "[encoded data removed]"
     },
     "metadata": {},
     "output_type": "display_data"
    }
   ],
   "source": [
    "disp = ConfusionMatrixDisplay.from_predictions(y_test, y_pred_dt, labels=model_dt.classes_, cmap='Greens')\n",
    "plt.show()"
   ]
  }
 ],
 "metadata": {
  "kernelspec": {
   "display_name": "Kedro (titanic_desafio_ds)",
   "language": "python",
   "name": "kedro_titanic_desafio_ds"
  },
  "language_info": {
   "codemirror_mode": {
    "name": "ipython",
    "version": 3
   },
   "file_extension": ".py",
   "mimetype": "text/x-python",
   "name": "python",
   "nbconvert_exporter": "python",
   "pygments_lexer": "ipython3",
   "version": "3.8.11"
  }
 },
 "nbformat": 4,
 "nbformat_minor": 5
}
